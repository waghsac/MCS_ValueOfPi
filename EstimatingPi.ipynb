{
 "cells": [
  {
   "cell_type": "code",
   "execution_count": 1,
   "metadata": {},
   "outputs": [],
   "source": [
    "#Import modules\n",
    "import numpy as np\n",
    "from numpy import random as npr"
   ]
  },
  {
   "cell_type": "code",
   "execution_count": 4,
   "metadata": {},
   "outputs": [
    {
     "name": "stdout",
     "output_type": "stream",
     "text": [
      "After 10000000 simulations, our estimate of Pi is 3.1416192 with an error of 0.0%\n"
     ]
    }
   ],
   "source": [
    "#Number of iterations in the simulation\n",
    "n = 10000000\n",
    "\n",
    "#Draw random points from a uniform distribution in the X-Y plane to fill the area of a square with length of 2 units\n",
    "x = npr.uniform(low=-1, high=1, size=n)\n",
    "y = npr.uniform(low=-1, high=1, size=n)\n",
    "\n",
    "#Compute distance from origin of any random sample point\n",
    "distance = np.sqrt(x**2 + y**2)\n",
    "\n",
    "#Points with a distance less than one unit from the origin will be within the area of the unit circle\n",
    "circle = distance[distance<=1]\n",
    "\n",
    "#Approximate Pi using the ratio of the area of circle to a square\n",
    "pi = 4.0*len(circle)/n\n",
    "\n",
    "#Estimate percentage error using the theoretical value of Pi\n",
    "error = ((pi-np.pi)/np.pi)*100\n",
    "\n",
    "print(\"After {0} simulations, our estimate of Pi is {1} with an error of {2}%\".format(n, pi, round(error,2)))"
   ]
  }
 ],
 "metadata": {
  "kernelspec": {
   "display_name": "Python 3",
   "language": "python",
   "name": "python3"
  },
  "language_info": {
   "codemirror_mode": {
    "name": "ipython",
    "version": 3
   },
   "file_extension": ".py",
   "mimetype": "text/x-python",
   "name": "python",
   "nbconvert_exporter": "python",
   "pygments_lexer": "ipython3",
   "version": "3.6.0"
  }
 },
 "nbformat": 4,
 "nbformat_minor": 2
}
